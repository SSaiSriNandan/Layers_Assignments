{
 "cells": [
  {
   "cell_type": "code",
   "execution_count": 2,
   "id": "fc74893a",
   "metadata": {},
   "outputs": [
    {
     "name": "stdout",
     "output_type": "stream",
     "text": [
      "Nandan\n",
      "nANDAN\n"
     ]
    }
   ],
   "source": [
    "#swap case\n",
    "s = input()\n",
    "Output = ''\n",
    "for char in s:\n",
    "    if(char.isupper()==True):\n",
    "        Output += (char.lower())\n",
    "    elif(char.islower()==True):\n",
    "        Output += (char.upper())\n",
    "    else:\n",
    "        Output += char\n",
    "print(Output)"
   ]
  },
  {
   "cell_type": "code",
   "execution_count": 3,
   "id": "a0846d44",
   "metadata": {},
   "outputs": [
    {
     "name": "stdout",
     "output_type": "stream",
     "text": [
      "hi this is Nandan \n",
      "hi-this-is-Nandan\n"
     ]
    }
   ],
   "source": [
    "#String Split and Join\n",
    "line = input()\n",
    "Output = line.split()\n",
    "Output = \"-\".join(Output)\n",
    "print(Output)\n"
   ]
  },
  {
   "cell_type": "code",
   "execution_count": 4,
   "id": "68d8809f",
   "metadata": {},
   "outputs": [
    {
     "name": "stdout",
     "output_type": "stream",
     "text": [
      "nandan\n",
      "s\n",
      "Hello nandan s! You just delved into python.\n"
     ]
    }
   ],
   "source": [
    "#What's Your Name\n",
    "first_name = input()\n",
    "last_name = input()\n",
    "last_name = last_name +\"!\"\n",
    "print(\"Hello\",first_name, last_name,\"You just delved into python.\")"
   ]
  },
  {
   "cell_type": "code",
   "execution_count": 5,
   "id": "059bd038",
   "metadata": {},
   "outputs": [
    {
     "name": "stdout",
     "output_type": "stream",
     "text": [
      "abracadabra\n",
      "5 k\n",
      "abrackdabra\n"
     ]
    }
   ],
   "source": [
    "#Mutations\n",
    "string = input()\n",
    "i, character = input().split()\n",
    "position = int(i)\n",
    "l = list(string)\n",
    "l[position] = character;\n",
    "s_new = ''.join(l);\n",
    "print(s_new)"
   ]
  },
  {
   "cell_type": "code",
   "execution_count": 7,
   "id": "3f5fb9a4",
   "metadata": {},
   "outputs": [
    {
     "name": "stdout",
     "output_type": "stream",
     "text": [
      "ABCDCDC\n",
      "CDC\n",
      "2\n"
     ]
    }
   ],
   "source": [
    "#Find a string\n",
    "string = input().strip()\n",
    "sub_string =input().strip()\n",
    "count = 0\n",
    "for i in range(len(string)-len(sub_string)+1):\n",
    "    if (string[i:i+len(sub_string)] == sub_string):\n",
    "        count += 1\n",
    "print(count)"
   ]
  },
  {
   "cell_type": "code",
   "execution_count": 9,
   "id": "387f292c",
   "metadata": {},
   "outputs": [
    {
     "name": "stdout",
     "output_type": "stream",
     "text": [
      "qA2\n",
      "True\n",
      "True\n",
      "True\n",
      "True\n",
      "True\n"
     ]
    }
   ],
   "source": [
    "#String Validators\n",
    "def fun1(s):\n",
    "    for i in range(len(s)):\n",
    "        if(s[i].isalnum()):\n",
    "            return True;\n",
    "            break;\n",
    "    return False;\n",
    "        \n",
    "def fun2(s):\n",
    "    for i in range(len(s)):\n",
    "        if(s[i].isalpha()):\n",
    "            return True;\n",
    "            break;\n",
    "    return False;\n",
    "\n",
    "def fun3(s):\n",
    "    for i in range(len(s)):\n",
    "        if(s[i].isdigit()):\n",
    "            return True;\n",
    "            break;\n",
    "    return False;\n",
    "\n",
    "def fun4(s):\n",
    "    for i in range(len(s)):\n",
    "        if(s[i].islower()):\n",
    "            return True;\n",
    "            break;\n",
    "    return False; \n",
    "     \n",
    "def fun5(s):\n",
    "    for i in range(len(s)):\n",
    "        if(s[i].isupper()):\n",
    "            return True;\n",
    "            break;\n",
    "    return False;\n",
    "     \n",
    "if __name__ == '__main__':\n",
    "    s = input()\n",
    "    \n",
    "    flagalphanum = fun1(s)\n",
    "    alphabetical = fun2(s)\n",
    "    digits = fun3(s)\n",
    "    lowercase = fun4(s)\n",
    "    uppercase = fun5(s)\n",
    "    print(flagalphanum)\n",
    "    print(alphabetical)\n",
    "    print(digits)\n",
    "    print(lowercase)\n",
    "    print(uppercase)"
   ]
  },
  {
   "cell_type": "code",
   "execution_count": 11,
   "id": "dea20768",
   "metadata": {},
   "outputs": [
    {
     "name": "stdout",
     "output_type": "stream",
     "text": [
      "6\n",
      "     H     \n",
      "    HHH    \n",
      "   HHHHH   \n",
      "  HHHHHHH  \n",
      " HHHHHHHHH \n",
      "HHHHHHHHHHH\n",
      "   HHHHHH                  HHHHHH               \n",
      "   HHHHHH                  HHHHHH               \n",
      "   HHHHHH                  HHHHHH               \n",
      "   HHHHHH                  HHHHHH               \n",
      "   HHHHHH                  HHHHHH               \n",
      "   HHHHHH                  HHHHHH               \n",
      "   HHHHHH                  HHHHHH               \n",
      "   HHHHHHHHHHHHHHHHHHHHHHHHHHHHHH   \n",
      "   HHHHHHHHHHHHHHHHHHHHHHHHHHHHHH   \n",
      "   HHHHHHHHHHHHHHHHHHHHHHHHHHHHHH   \n",
      "   HHHHHH                  HHHHHH               \n",
      "   HHHHHH                  HHHHHH               \n",
      "   HHHHHH                  HHHHHH               \n",
      "   HHHHHH                  HHHHHH               \n",
      "   HHHHHH                  HHHHHH               \n",
      "   HHHHHH                  HHHHHH               \n",
      "   HHHHHH                  HHHHHH               \n",
      "                        HHHHHHHHHHH \n",
      "                         HHHHHHHHH  \n",
      "                          HHHHHHH   \n",
      "                           HHHHH    \n",
      "                            HHH     \n",
      "                             H      \n"
     ]
    }
   ],
   "source": [
    "#Text Alignment\n",
    "thickness = int(input()) #This must be an odd number\n",
    "c = 'H'\n",
    "\n",
    "for i in range(thickness):\n",
    "    print((c*i).rjust(thickness-1)+c+(c*i).ljust(thickness-1))\n",
    "\n",
    "for i in range(thickness+1):\n",
    "    print((c*thickness).center(thickness*2)+(c*thickness).center(thickness*6))\n",
    "\n",
    "for i in range((thickness+1)//2):\n",
    "    print((c*thickness*5).center(thickness*6))    \n",
    "\n",
    "for i in range(thickness+1):\n",
    "    print((c*thickness).center(thickness*2)+(c*thickness).center(thickness*6))    \n",
    "\n",
    "for i in range(thickness):\n",
    "    print(((c*(thickness-i-1)).rjust(thickness)+c+(c*(thickness-i-1)).ljust(thickness)).rjust(thickness*6))\n"
   ]
  },
  {
   "cell_type": "code",
   "execution_count": 12,
   "id": "1009cb4b",
   "metadata": {
    "scrolled": true
   },
   "outputs": [
    {
     "name": "stdout",
     "output_type": "stream",
     "text": [
      "ABCDEFGHIJKLIMNOQRSTUVWXYZ\n",
      "4\n",
      "ABCD\n",
      "EFGH\n",
      "IJKL\n",
      "IMNO\n",
      "QRST\n",
      "UVWX\n",
      "YZ\n"
     ]
    }
   ],
   "source": [
    "#Text Wrap\n",
    "import textwrap\n",
    "string, max_width = input(), int(input())\n",
    "result = textwrap.fill(string,max_width)\n",
    "print(result)"
   ]
  },
  {
   "cell_type": "code",
   "execution_count": 14,
   "id": "0d07107a",
   "metadata": {},
   "outputs": [
    {
     "name": "stdout",
     "output_type": "stream",
     "text": [
      "9 27\n",
      "------------.|.------------\n",
      "---------.|..|..|.---------\n",
      "------.|..|..|..|..|.------\n",
      "---.|..|..|..|..|..|..|.---\n",
      "----------WELCOME----------\n",
      "---.|..|..|..|..|..|..|.---\n",
      "------.|..|..|..|..|.------\n",
      "---------.|..|..|.---------\n",
      "------------.|.------------\n"
     ]
    }
   ],
   "source": [
    "#Designer Door Mat\n",
    "N, M = map(int, input().split())\n",
    "for i in range(1, N, 2):\n",
    "    print(str('.|.' * i).center(M, '-'))\n",
    "print('WELCOME'.center(M, '-'))\n",
    "for i in range(N-2, -1, -2):\n",
    "    print(str('.|.' * i).center(M, '-'))"
   ]
  },
  {
   "cell_type": "code",
   "execution_count": 15,
   "id": "800debd5",
   "metadata": {},
   "outputs": [
    {
     "name": "stdout",
     "output_type": "stream",
     "text": [
      "17\n",
      "    1     1     1     1 \n",
      "    2     2     2    10 \n",
      "    3     3     3    11 \n",
      "    4     4     4   100 \n",
      "    5     5     5   101 \n",
      "    6     6     6   110 \n",
      "    7     7     7   111 \n",
      "    8    10     8  1000 \n",
      "    9    11     9  1001 \n",
      "   10    12     A  1010 \n",
      "   11    13     B  1011 \n",
      "   12    14     C  1100 \n",
      "   13    15     D  1101 \n",
      "   14    16     E  1110 \n",
      "   15    17     F  1111 \n",
      "   16    20    10 10000 \n",
      "   17    21    11 10001 \n"
     ]
    }
   ],
   "source": [
    "#String Formatting\n",
    "number = int(input())\n",
    "l1 = len(bin(number)[2:])\n",
    "   \n",
    "for i in range(1,number+1):\n",
    "    print(str(i).rjust(l1,' '),end=\" \")\n",
    "    print(oct(i)[2:].rjust(l1,' '),end=\" \")\n",
    "    print(((hex(i)[2:]).upper()).rjust(l1,' '),end=\" \")\n",
    "    print(bin(i)[2:].rjust(l1,' '),end=\" \")\n",
    "    print(\"\")\n",
    "    "
   ]
  },
  {
   "cell_type": "code",
   "execution_count": 16,
   "id": "e3196821",
   "metadata": {},
   "outputs": [
    {
     "name": "stdout",
     "output_type": "stream",
     "text": [
      "5\n",
      "--------e--------\n",
      "------e-d-e------\n",
      "----e-d-c-d-e----\n",
      "--e-d-c-b-c-d-e--\n",
      "e-d-c-b-a-b-c-d-e\n",
      "--e-d-c-b-c-d-e--\n",
      "----e-d-c-d-e----\n",
      "------e-d-e------\n",
      "--------e--------\n"
     ]
    }
   ],
   "source": [
    "#Alphabet Rangoli\n",
    "size = int(input())\n",
    "width  = size*4-3\n",
    "string = ''\n",
    "\n",
    "for i in range(1,size+1):\n",
    "    for j in range(0,i):\n",
    "        string += chr(96+size-j)\n",
    "        if len(string) < width :\n",
    "            string += '-'\n",
    "    for k in range(i-1,0,-1):    \n",
    "        string += chr(97+size-k)\n",
    "        if len(string) < width :\n",
    "            string += '-'\n",
    "    print(string.center(width,'-'))\n",
    "    string = ''\n",
    "\n",
    "for i in range(size-1,0,-1):\n",
    "    string = ''\n",
    "    for j in range(0,i):\n",
    "        string += chr(96+size-j)\n",
    "        if len(string) < width :\n",
    "            string += '-'\n",
    "    for k in range(i-1,0,-1):\n",
    "        string += chr(97+size-k)\n",
    "        if len(string) < width :\n",
    "            string += '-'\n",
    "    print(string.center(width,'-'))"
   ]
  },
  {
   "cell_type": "code",
   "execution_count": 21,
   "id": "3846f05e",
   "metadata": {},
   "outputs": [
    {
     "name": "stdout",
     "output_type": "stream",
     "text": [
      "chris alan\n",
      "Chris Alan\n"
     ]
    }
   ],
   "source": [
    "#Capitalize!\n",
    "import math\n",
    "import os\n",
    "import random\n",
    "import re\n",
    "import sys\n",
    "\n",
    "s = input()\n",
    "for i in s.split():\n",
    "    s = s.replace(i,i.capitalize())\n",
    "print(s)"
   ]
  },
  {
   "cell_type": "code",
   "execution_count": 22,
   "id": "608126e0",
   "metadata": {},
   "outputs": [
    {
     "name": "stdout",
     "output_type": "stream",
     "text": [
      "BANANA\n",
      "Stuart 21\n"
     ]
    }
   ],
   "source": [
    "#The Minion Game\n",
    "string=input()\n",
    "player1 = 0;\n",
    "player2 = 0;\n",
    "str_len = len(string)\n",
    "for i in range(str_len):\n",
    "    if s[i] in \"AEIOU\":\n",
    "        player1 += (str_len)-i\n",
    "    else :\n",
    "        player2 += (str_len)-i\n",
    "    \n",
    "if player1 > player2:\n",
    "    print(\"Kevin\", player1)\n",
    "elif player1 < player2:\n",
    "    print(\"Stuart\",player2)\n",
    "elif player1 == player2:\n",
    "    print(\"Draw\")\n",
    "else :\n",
    "    print(\"Draw\")"
   ]
  },
  {
   "cell_type": "code",
   "execution_count": 23,
   "id": "73813924",
   "metadata": {},
   "outputs": [
    {
     "name": "stdout",
     "output_type": "stream",
     "text": [
      "AABCAAADA\n",
      "3\n",
      "AB\n",
      "CA\n",
      "AD\n"
     ]
    }
   ],
   "source": [
    "#Merge the Tools\n",
    "from collections import OrderedDict\n",
    "string, k = input(), int(input())\n",
    "strlen = len(string)\n",
    "for i in range(0,strlen,k):\n",
    "    print(''.join(OrderedDict.fromkeys(string[i:i + k])))"
   ]
  },
  {
   "cell_type": "code",
   "execution_count": 24,
   "id": "f8845c80",
   "metadata": {},
   "outputs": [
    {
     "name": "stdout",
     "output_type": "stream",
     "text": [
      "10\n",
      "161 182 161 154 176 170 167 171 170 174\n",
      "169.375\n"
     ]
    }
   ],
   "source": [
    "#Introduction to Sets\n",
    "n = int(input())\n",
    "array = list(map(int, input().split()))\n",
    "sum_array = sum(set(array))\n",
    "len_array = len(set(array))\n",
    "output = sum_array/len_array\n",
    "print(output)"
   ]
  },
  {
   "cell_type": "code",
   "execution_count": 25,
   "id": "9cd1cb9e",
   "metadata": {},
   "outputs": [
    {
     "name": "stdout",
     "output_type": "stream",
     "text": [
      "3 2\n",
      "1 5 3\n",
      "3 1\n",
      "5 7\n",
      "1\n"
     ]
    }
   ],
   "source": [
    "#No Idea\n",
    "io = input().split()\n",
    "m = int(io[0])\n",
    "n = int(io[1])\n",
    "\n",
    "storage = list()\n",
    "count = 0\n",
    "\n",
    "storage = list(map(int, input().strip().split()))\n",
    "\n",
    "A = set(map(int, input().strip().split()))\n",
    "B = set(map(int, input().strip().split()))\n",
    "\n",
    "for i in storage:\n",
    "    if i in A:\n",
    "        count = count+1\n",
    "    if i in B:\n",
    "        count = count-1\n",
    "\n",
    "print(count)"
   ]
  },
  {
   "cell_type": "code",
   "execution_count": 26,
   "id": "3bb5de67",
   "metadata": {},
   "outputs": [
    {
     "name": "stdout",
     "output_type": "stream",
     "text": [
      "4\n",
      "2 4 5 9\n",
      "4\n",
      "2 4 11 12\n",
      "5\n",
      "9\n",
      "11\n",
      "12\n"
     ]
    }
   ],
   "source": [
    "#Symmetric Difference\n",
    "M = int(input())\n",
    "mset = set(map(int, input().split()))\n",
    "N = int(input())\n",
    "nset = set(map(int, input().split()))\n",
    "\n",
    "mdef = mset.difference(nset)\n",
    "ndef = nset.difference(mset)\n",
    "\n",
    "output = mdef.union(ndef)\n",
    "\n",
    "for i in sorted(list(output)):\n",
    "    print(i)"
   ]
  },
  {
   "cell_type": "code",
   "execution_count": 27,
   "id": "905d415a",
   "metadata": {},
   "outputs": [
    {
     "name": "stdout",
     "output_type": "stream",
     "text": [
      "38\n",
      "1 2 3 4 5 6 7 8 9 10 11 12 13 14 24 52\n",
      "4\n",
      "intersection_update 10\n",
      "2 3 5 6 8 9 1 4 7 11\n",
      "update 2\n",
      "55 66\n",
      "symmetric_difference_update 5\n",
      "22 7 35 62 58\n",
      "difference_update 7\n",
      "11 22 35 55 58 62 66\n",
      "38\n"
     ]
    }
   ],
   "source": [
    "#Set Mutations\n",
    "len_set = int(input())\n",
    "storage = set(map(int, input().split()))\n",
    "op_len = int(input())\n",
    "for i in range(op_len):\n",
    "    operation = input().split()\n",
    "    if operation[0] == 'intersection_update':\n",
    "        temp_storage = set(map(int, input().split()))\n",
    "        storage.intersection_update(temp_storage)\n",
    "    elif operation[0] == 'update':\n",
    "        temp_storage = set(map(int, input().split()))\n",
    "        storage.update(temp_storage)\n",
    "    elif operation[0] == 'symmetric_difference_update':\n",
    "        temp_storage = set(map(int, input().split()))\n",
    "        storage.symmetric_difference_update(temp_storage)\n",
    "    elif operation[0] == 'difference_update':\n",
    "        temp_storage = set(map(int, input().split()))\n",
    "        storage.difference_update(temp_storage)\n",
    "    else :\n",
    "        assert False\n",
    "print(sum(storage))"
   ]
  },
  {
   "cell_type": "code",
   "execution_count": 28,
   "id": "380bae74",
   "metadata": {},
   "outputs": [
    {
     "name": "stdout",
     "output_type": "stream",
     "text": [
      "5\n",
      "1 2 3 6 5 4 4 2 5 3 6 1 6 5 3 2 4 1 2 5 1 4 3 6 8 4 3 1 5 6 2\n",
      "8\n"
     ]
    }
   ],
   "source": [
    "#The Captain's Room\n",
    "N = int(input())\n",
    "\n",
    "storage = map(int, input().split())\n",
    "storage = sorted(storage)\n",
    "\n",
    "for i in range(len(storage)):\n",
    "    if(i != len(storage)-1):\n",
    "        if(storage[i]!=storage[i-1] and storage[i]!=storage[i+1]):\n",
    "            print(storage[i])\n",
    "            break;\n",
    "    else:\n",
    "        print(storage[i])"
   ]
  },
  {
   "cell_type": "code",
   "execution_count": 29,
   "id": "0c82f482",
   "metadata": {},
   "outputs": [
    {
     "name": "stdout",
     "output_type": "stream",
     "text": [
      "3\n",
      "5\n",
      "1 2 3 5 6\n",
      "9\n",
      "9 8 5 6 3 2 1 4 7\n",
      "True\n",
      "1\n",
      "2\n",
      "5\n",
      "3 6 5 4 1\n",
      "False\n",
      "7\n",
      "1 2 3 5 6 8 9\n",
      "3\n",
      "9 8 2\n",
      "False\n"
     ]
    }
   ],
   "source": [
    "#Check Subset\n",
    "T = int(input())\n",
    "\n",
    "for _ in range(T):\n",
    "    a = input()\n",
    "    A = set(input().split())\n",
    "    b = int(input())\n",
    "    B = set(input().split())\n",
    "    print(A.issubset(B))"
   ]
  },
  {
   "cell_type": "code",
   "execution_count": 30,
   "id": "d6d1d46b",
   "metadata": {},
   "outputs": [
    {
     "name": "stdout",
     "output_type": "stream",
     "text": [
      "1 2 3 4 5 6 7 8 9 10 11 12 23 45 84 78\n",
      "2\n",
      "1 2 3 4 5\n",
      "100 11 12\n",
      "False\n"
     ]
    }
   ],
   "source": [
    "#Check Strict Superset\n",
    "storage = set(input().split())\n",
    "N = int(input())\n",
    "output = True\n",
    "\n",
    "for i in range(N):\n",
    "    storage2 = set(input().split())\n",
    "    if not storage2.issubset(storage):\n",
    "        output = False\n",
    "    if len(storage2) >= len(storage):\n",
    "        output = False\n",
    "\n",
    "print(output)"
   ]
  },
  {
   "cell_type": "code",
   "execution_count": 31,
   "id": "95a2a9ab",
   "metadata": {},
   "outputs": [
    {
     "name": "stdout",
     "output_type": "stream",
     "text": [
      "5\n",
      "UK\n",
      "CHINA\n",
      "USA\n",
      "FRANCE\n",
      "NEW ZEALAND\n",
      "5\n"
     ]
    }
   ],
   "source": [
    "#Set .add()\n",
    "N = int(input())\n",
    "\n",
    "countries = set()\n",
    "\n",
    "for i in range(N):\n",
    "    countries.add(input())\n",
    "\n",
    "print(len(countries))"
   ]
  },
  {
   "cell_type": "code",
   "execution_count": 33,
   "id": "18a833a0",
   "metadata": {},
   "outputs": [
    {
     "name": "stdout",
     "output_type": "stream",
     "text": [
      "9\n",
      "1 2 3 4 5 6 7 8 9\n",
      "10\n",
      "pop\n",
      "remove 9\n",
      "discard 9\n",
      "discard 8\n",
      "remove 7\n",
      "pop\n",
      "discard 6\n",
      "remove 5\n",
      "pop\n",
      "discard 5\n",
      "4\n"
     ]
    }
   ],
   "source": [
    "#Set .discard(), .remove() & .pop()\n",
    "n = int(input())\n",
    "s = set(map(int,input().split()))\n",
    "num = int(input())\n",
    "for i in range(num):\n",
    "    ip = input().split()\n",
    "    if ip[0]==\"remove\":\n",
    "        s.remove(int(ip[1]))\n",
    "    elif ip[0]==\"discard\":\n",
    "        s.discard(int(ip[1]))\n",
    "    else :\n",
    "        s.pop()\n",
    "print(sum(list(s)))"
   ]
  },
  {
   "cell_type": "code",
   "execution_count": 34,
   "id": "79b7e454",
   "metadata": {},
   "outputs": [
    {
     "name": "stdout",
     "output_type": "stream",
     "text": [
      "9\n",
      "1 2 3 4 5 6 7 8 9\n",
      "9\n",
      "10 1 2 3 11 21 55 6 8\n",
      "13\n"
     ]
    }
   ],
   "source": [
    "#Set .union() Operation\n",
    "N1 = int(input())\n",
    "storage1 = set(input().split());\n",
    "\n",
    "N2 = int(input())\n",
    "storage2 = set(input().split());\n",
    "\n",
    "storage3 = storage1.union(storage2)\n",
    "\n",
    "print(len(storage3))"
   ]
  },
  {
   "cell_type": "code",
   "execution_count": 35,
   "id": "dcde82df",
   "metadata": {},
   "outputs": [
    {
     "name": "stdout",
     "output_type": "stream",
     "text": [
      "9\n",
      "1 2 3 4 5 6 7 8 9\n",
      "9\n",
      "10 1 2 3 11 21 55 6 8\n",
      "5\n"
     ]
    }
   ],
   "source": [
    "#Set .intersection() Operation\n",
    "N1 = int(input())\n",
    "storage1 = set(input().split())\n",
    "\n",
    "N2 = int(input())\n",
    "storage2 = set(input().split())\n",
    "\n",
    "storage3 = storage2.intersection(storage1)\n",
    "\n",
    "print(len(storage3))"
   ]
  },
  {
   "cell_type": "code",
   "execution_count": 36,
   "id": "9facd707",
   "metadata": {},
   "outputs": [
    {
     "name": "stdout",
     "output_type": "stream",
     "text": [
      "9\n",
      "1 2 3 4 5 6 7 8 9\n",
      "9\n",
      "10 1 2 3 11 21 55 6 8\n",
      "4\n"
     ]
    }
   ],
   "source": [
    "#Set .difference() Operation\n",
    "N1 = int(input())\n",
    "storage1 = set(input().split())\n",
    "\n",
    "N2 = int(input())\n",
    "storage2 = set(input().split())\n",
    "\n",
    "storage3 = storage1.difference(storage2)\n",
    "\n",
    "print(len(storage3))"
   ]
  },
  {
   "cell_type": "code",
   "execution_count": 37,
   "id": "828b36c0",
   "metadata": {},
   "outputs": [
    {
     "name": "stdout",
     "output_type": "stream",
     "text": [
      "9\n",
      "1 2 3 4 5 6 7 8 9\n",
      "9\n",
      "10 1 2 3 11 21 55 6 8\n",
      "8\n"
     ]
    }
   ],
   "source": [
    "#Set .symmetric_difference() Operation\n",
    "N1 = int(input())\n",
    "storage1 = set(input().split())\n",
    "\n",
    "N2 = int(input())\n",
    "storage2 = set(input().split())\n",
    "\n",
    "storage3 = storage1.symmetric_difference(storage2)\n",
    "\n",
    "print(len(storage3))"
   ]
  },
  {
   "cell_type": "code",
   "execution_count": null,
   "id": "cc4fcb80",
   "metadata": {},
   "outputs": [],
   "source": []
  }
 ],
 "metadata": {
  "kernelspec": {
   "display_name": "Python 3",
   "language": "python",
   "name": "python3"
  },
  "language_info": {
   "codemirror_mode": {
    "name": "ipython",
    "version": 3
   },
   "file_extension": ".py",
   "mimetype": "text/x-python",
   "name": "python",
   "nbconvert_exporter": "python",
   "pygments_lexer": "ipython3",
   "version": "3.8.8"
  }
 },
 "nbformat": 4,
 "nbformat_minor": 5
}
